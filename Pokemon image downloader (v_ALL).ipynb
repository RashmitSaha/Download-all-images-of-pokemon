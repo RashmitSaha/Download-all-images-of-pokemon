{
 "cells": [
  {
   "cell_type": "markdown",
   "id": "6779b8ce-b18f-4f08-ad61-446271ea6abc",
   "metadata": {},
   "source": [
    "# Web-scraping to download images of all Pokemon upto Gen 9"
   ]
  },
  {
   "cell_type": "markdown",
   "id": "24776677-bf23-4999-847b-fe52bd763a94",
   "metadata": {},
   "source": [
    "##### Here, I used the BeautifulSoup library for web-scraping all the images of the Pokemon upto Generation 9 from the Pokemon Database website (pokemondb.net). Then, those images were extracted and saved under a folder named \"pokemon images\"."
   ]
  },
  {
   "cell_type": "markdown",
   "id": "c81cb0c8-df37-4784-ac9c-debce4c5a1ad",
   "metadata": {},
   "source": [
    "Step 1: Import the necessary libraries"
   ]
  },
  {
   "cell_type": "code",
   "execution_count": null,
   "id": "5a78d547-1abd-45eb-999c-a05d11b53e45",
   "metadata": {},
   "outputs": [],
   "source": [
    "from bs4 import BeautifulSoup\n",
    "import requests"
   ]
  },
  {
   "cell_type": "markdown",
   "id": "8181696c-891b-412b-86e3-e71d6221cc5b",
   "metadata": {},
   "source": [
    "Step 2: Get the content from the Pokemon Database website and parse it in a BeautifulSoup object."
   ]
  },
  {
   "cell_type": "code",
   "execution_count": null,
   "id": "8294bb60-50e1-49d5-88c1-cd87b9734d24",
   "metadata": {
    "scrolled": true
   },
   "outputs": [],
   "source": [
    "url=\"https://pokemondb.net/pokedex/all\"\n",
    "data=requests.get(url).content\n",
    "soup=BeautifulSoup(data,\"html.parser\")"
   ]
  },
  {
   "cell_type": "markdown",
   "id": "7c7ebed1-155a-4fb7-ac3b-e353bd993011",
   "metadata": {},
   "source": [
    "BEWARE: Execution of this cell and beyond requires basic knowledge of HTML like the tags and the document tree.\n",
    "\n",
    "Step 3: Find the table which has the data of all the Pokemon upto Generation 9."
   ]
  },
  {
   "cell_type": "code",
   "execution_count": null,
   "id": "576af7d3-6c3f-4712-b089-127396e72a26",
   "metadata": {},
   "outputs": [],
   "source": [
    "table=soup.find('table')\n",
    "rows=table.find_all('tr')"
   ]
  },
  {
   "cell_type": "markdown",
   "id": "16af7179-a442-44a7-a20b-d0645e8704f0",
   "metadata": {},
   "source": [
    "Step 4: Loop through the table for getting the image of all the Pokemon and downloading them."
   ]
  },
  {
   "cell_type": "code",
   "execution_count": null,
   "id": "ede2b336-48d4-4118-8f3b-23d00d5dcc1b",
   "metadata": {},
   "outputs": [],
   "source": [
    "for row in rows[1:]:\n",
    "    images=row.td.img['src']\n",
    "    filename='pokemon images/'+images.split('/')[-1]\n",
    "    flag=requests.get(images)\n",
    "    if flag.status_code!=200:\n",
    "        print(\"Error occurred while downloading this image!\")\n",
    "    else:\n",
    "        with open(filename,'wb') as f:\n",
    "            pkmn=f.write(flag.content)\n",
    "            print(\"Saved as\",filename)\n",
    "    "
   ]
  },
  {
   "cell_type": "markdown",
   "id": "d500426f-4409-4f25-becf-08e3e1e819f1",
   "metadata": {},
   "source": [
    "## A million thanks for checking out this notebook."
   ]
  },
  {
   "cell_type": "markdown",
   "id": "0d856787-76f0-4569-9e33-0090996c042c",
   "metadata": {},
   "source": [
    "# THANK YOU!"
   ]
  }
 ],
 "metadata": {
  "kernelspec": {
   "display_name": "Python 3 (ipykernel)",
   "language": "python",
   "name": "python3"
  },
  "language_info": {
   "codemirror_mode": {
    "name": "ipython",
    "version": 3
   },
   "file_extension": ".py",
   "mimetype": "text/x-python",
   "name": "python",
   "nbconvert_exporter": "python",
   "pygments_lexer": "ipython3",
   "version": "3.12.0"
  }
 },
 "nbformat": 4,
 "nbformat_minor": 5
}
