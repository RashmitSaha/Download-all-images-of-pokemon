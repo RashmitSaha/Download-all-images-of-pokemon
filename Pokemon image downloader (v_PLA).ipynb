{
 "cells": [
  {
   "cell_type": "code",
   "execution_count": 2,
   "id": "e01fb9fb-6344-4450-b747-218f3f8b3b14",
   "metadata": {},
   "outputs": [],
   "source": [
    "from bs4 import BeautifulSoup\n",
    "import requests"
   ]
  },
  {
   "cell_type": "code",
   "execution_count": 3,
   "id": "17c1743c-ad56-4764-a35e-6d35419295b5",
   "metadata": {},
   "outputs": [],
   "source": [
    "hisui_pokedex_link='https://www.serebii.net/legendsarceus/hisuipokedex.shtml'\n",
    "hisui_web_data=requests.get(hisui_pokedex_link).content\n",
    "soup=BeautifulSoup(hisui_web_data,'html.parser')"
   ]
  },
  {
   "cell_type": "code",
   "execution_count": 5,
   "id": "2a974dc0-498e-4748-886e-5bc94b65abbe",
   "metadata": {
    "scrolled": true
   },
   "outputs": [],
   "source": [
    "tables=soup.find_all('table')\n",
    "\n",
    "for table in tables:\n",
    "    rows=table.find('tr')\n",
    "    datas=rows.find_all('td',\"pkmnblock\")\n",
    "    for data in datas:\n",
    "        images=data.img['src']\n",
    "        link=\"https://serebii.net\"+images\n",
    "        filename=\"pokemon images (legends arceus)/\"+images.split('/')[-1]\n",
    "        flag=requests.get(link)\n",
    "        if flag.status_code!=200:\n",
    "            print(\"Error in downloading the image\")\n",
    "        else:\n",
    "            with open(filename,'wb') as f:\n",
    "                image_data=f.write(flag.content)\n",
    "                print(\"File saved as: \",filename)"
   ]
  }
 ],
 "metadata": {
  "kernelspec": {
   "display_name": "Python 3 (ipykernel)",
   "language": "python",
   "name": "python3"
  },
  "language_info": {
   "codemirror_mode": {
    "name": "ipython",
    "version": 3
   },
   "file_extension": ".py",
   "mimetype": "text/x-python",
   "name": "python",
   "nbconvert_exporter": "python",
   "pygments_lexer": "ipython3",
   "version": "3.12.0"
  }
 },
 "nbformat": 4,
 "nbformat_minor": 5
}
